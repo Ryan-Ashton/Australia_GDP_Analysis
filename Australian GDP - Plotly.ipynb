{
 "cells": [
  {
   "cell_type": "code",
   "execution_count": 1,
   "metadata": {},
   "outputs": [],
   "source": [
    "import pandas as pd\n",
    "import numpy as np\n",
    "import matplotlib.pyplot as plt\n",
    "import seaborn as sns\n",
    "import plotly.graph_objects as go"
   ]
  },
  {
   "cell_type": "code",
   "execution_count": 2,
   "metadata": {},
   "outputs": [
    {
     "data": {
      "text/html": [
       "<div>\n",
       "<style scoped>\n",
       "    .dataframe tbody tr th:only-of-type {\n",
       "        vertical-align: middle;\n",
       "    }\n",
       "\n",
       "    .dataframe tbody tr th {\n",
       "        vertical-align: top;\n",
       "    }\n",
       "\n",
       "    .dataframe thead th {\n",
       "        text-align: right;\n",
       "    }\n",
       "</style>\n",
       "<table border=\"1\" class=\"dataframe\">\n",
       "  <thead>\n",
       "    <tr style=\"text-align: right;\">\n",
       "      <th></th>\n",
       "      <th>Unnamed: 0</th>\n",
       "      <th>Agriculture, forestry and fishing (A) ;  Agriculture ;</th>\n",
       "      <th>Agriculture, forestry and fishing (A) ;  Forestry and fishing ;</th>\n",
       "      <th>Agriculture, forestry and fishing (A) ;</th>\n",
       "      <th>Mining (B) ;  Coal Mining ;</th>\n",
       "      <th>Mining (B) ;  Oil and gas extraction ;</th>\n",
       "      <th>Mining (B) ;  Iron ore mining ;</th>\n",
       "      <th>Mining (B) ;  Other mining ;</th>\n",
       "      <th>Mining (B) ;  Mining excluding exploration and mining support services ;</th>\n",
       "      <th>Mining (B) ;  Exploration and mining support services ;</th>\n",
       "      <th>...</th>\n",
       "      <th>Construction (E) ;  Construction services ;.2</th>\n",
       "      <th>Construction (E) ;.2</th>\n",
       "      <th>Wholesale trade (F) ;.2</th>\n",
       "      <th>Retail trade (G) ;.2</th>\n",
       "      <th>Accommodation and food services (H) ;.2</th>\n",
       "      <th>Transport, postal and warehousing (I) ;  Road ;.2</th>\n",
       "      <th>Transport, postal and warehousing (I) ;  Air and space transport ;.2</th>\n",
       "      <th>Transport, postal and warehousing (I) ;  Rail, pipeline and other transport ;.2</th>\n",
       "      <th>Transport, postal and warehousing (I) ;  Transport, postal and storage services ;.2</th>\n",
       "      <th>Transport, postal and warehousing (I) ;.2</th>\n",
       "    </tr>\n",
       "  </thead>\n",
       "  <tbody>\n",
       "    <tr>\n",
       "      <th>0</th>\n",
       "      <td>Unit</td>\n",
       "      <td>$ Millions</td>\n",
       "      <td>$ Millions</td>\n",
       "      <td>$ Millions</td>\n",
       "      <td>$ Millions</td>\n",
       "      <td>$ Millions</td>\n",
       "      <td>$ Millions</td>\n",
       "      <td>$ Millions</td>\n",
       "      <td>$ Millions</td>\n",
       "      <td>$ Millions</td>\n",
       "      <td>...</td>\n",
       "      <td>$ Millions</td>\n",
       "      <td>$ Millions</td>\n",
       "      <td>$ Millions</td>\n",
       "      <td>$ Millions</td>\n",
       "      <td>$ Millions</td>\n",
       "      <td>$ Millions</td>\n",
       "      <td>$ Millions</td>\n",
       "      <td>$ Millions</td>\n",
       "      <td>$ Millions</td>\n",
       "      <td>$ Millions</td>\n",
       "    </tr>\n",
       "    <tr>\n",
       "      <th>1</th>\n",
       "      <td>Series Type</td>\n",
       "      <td>Trend</td>\n",
       "      <td>Trend</td>\n",
       "      <td>Trend</td>\n",
       "      <td>Trend</td>\n",
       "      <td>Trend</td>\n",
       "      <td>Trend</td>\n",
       "      <td>Trend</td>\n",
       "      <td>Trend</td>\n",
       "      <td>Trend</td>\n",
       "      <td>...</td>\n",
       "      <td>Original</td>\n",
       "      <td>Original</td>\n",
       "      <td>Original</td>\n",
       "      <td>Original</td>\n",
       "      <td>Original</td>\n",
       "      <td>Original</td>\n",
       "      <td>Original</td>\n",
       "      <td>Original</td>\n",
       "      <td>Original</td>\n",
       "      <td>Original</td>\n",
       "    </tr>\n",
       "    <tr>\n",
       "      <th>2</th>\n",
       "      <td>Data Type</td>\n",
       "      <td>DERIVED</td>\n",
       "      <td>DERIVED</td>\n",
       "      <td>DERIVED</td>\n",
       "      <td>DERIVED</td>\n",
       "      <td>DERIVED</td>\n",
       "      <td>DERIVED</td>\n",
       "      <td>DERIVED</td>\n",
       "      <td>DERIVED</td>\n",
       "      <td>DERIVED</td>\n",
       "      <td>...</td>\n",
       "      <td>DERIVED</td>\n",
       "      <td>DERIVED</td>\n",
       "      <td>DERIVED</td>\n",
       "      <td>DERIVED</td>\n",
       "      <td>DERIVED</td>\n",
       "      <td>DERIVED</td>\n",
       "      <td>DERIVED</td>\n",
       "      <td>DERIVED</td>\n",
       "      <td>DERIVED</td>\n",
       "      <td>DERIVED</td>\n",
       "    </tr>\n",
       "    <tr>\n",
       "      <th>3</th>\n",
       "      <td>Frequency</td>\n",
       "      <td>Quarter</td>\n",
       "      <td>Quarter</td>\n",
       "      <td>Quarter</td>\n",
       "      <td>Quarter</td>\n",
       "      <td>Quarter</td>\n",
       "      <td>Quarter</td>\n",
       "      <td>Quarter</td>\n",
       "      <td>Quarter</td>\n",
       "      <td>Quarter</td>\n",
       "      <td>...</td>\n",
       "      <td>Quarter</td>\n",
       "      <td>Quarter</td>\n",
       "      <td>Quarter</td>\n",
       "      <td>Quarter</td>\n",
       "      <td>Quarter</td>\n",
       "      <td>Quarter</td>\n",
       "      <td>Quarter</td>\n",
       "      <td>Quarter</td>\n",
       "      <td>Quarter</td>\n",
       "      <td>Quarter</td>\n",
       "    </tr>\n",
       "    <tr>\n",
       "      <th>4</th>\n",
       "      <td>Collection Month</td>\n",
       "      <td>3</td>\n",
       "      <td>3</td>\n",
       "      <td>3</td>\n",
       "      <td>3</td>\n",
       "      <td>3</td>\n",
       "      <td>3</td>\n",
       "      <td>3</td>\n",
       "      <td>3</td>\n",
       "      <td>3</td>\n",
       "      <td>...</td>\n",
       "      <td>3</td>\n",
       "      <td>3</td>\n",
       "      <td>3</td>\n",
       "      <td>3</td>\n",
       "      <td>3</td>\n",
       "      <td>3</td>\n",
       "      <td>3</td>\n",
       "      <td>3</td>\n",
       "      <td>3</td>\n",
       "      <td>3</td>\n",
       "    </tr>\n",
       "  </tbody>\n",
       "</table>\n",
       "<p>5 rows × 251 columns</p>\n",
       "</div>"
      ],
      "text/plain": [
       "         Unnamed: 0 Agriculture, forestry and fishing (A) ;  Agriculture ;  \\\n",
       "0              Unit                                         $ Millions       \n",
       "1       Series Type                                              Trend       \n",
       "2         Data Type                                            DERIVED       \n",
       "3         Frequency                                            Quarter       \n",
       "4  Collection Month                                                  3       \n",
       "\n",
       "  Agriculture, forestry and fishing (A) ;  Forestry and fishing ;  \\\n",
       "0                                         $ Millions                \n",
       "1                                              Trend                \n",
       "2                                            DERIVED                \n",
       "3                                            Quarter                \n",
       "4                                                  3                \n",
       "\n",
       "  Agriculture, forestry and fishing (A) ; Mining (B) ;  Coal Mining ;  \\\n",
       "0                              $ Millions                  $ Millions   \n",
       "1                                   Trend                       Trend   \n",
       "2                                 DERIVED                     DERIVED   \n",
       "3                                 Quarter                     Quarter   \n",
       "4                                       3                           3   \n",
       "\n",
       "  Mining (B) ;  Oil and gas extraction ; Mining (B) ;  Iron ore mining ;  \\\n",
       "0                             $ Millions                      $ Millions   \n",
       "1                                  Trend                           Trend   \n",
       "2                                DERIVED                         DERIVED   \n",
       "3                                Quarter                         Quarter   \n",
       "4                                      3                               3   \n",
       "\n",
       "  Mining (B) ;  Other mining ;  \\\n",
       "0                   $ Millions   \n",
       "1                        Trend   \n",
       "2                      DERIVED   \n",
       "3                      Quarter   \n",
       "4                            3   \n",
       "\n",
       "  Mining (B) ;  Mining excluding exploration and mining support services ;  \\\n",
       "0                                         $ Millions                         \n",
       "1                                              Trend                         \n",
       "2                                            DERIVED                         \n",
       "3                                            Quarter                         \n",
       "4                                                  3                         \n",
       "\n",
       "  Mining (B) ;  Exploration and mining support services ;  ...  \\\n",
       "0                                         $ Millions       ...   \n",
       "1                                              Trend       ...   \n",
       "2                                            DERIVED       ...   \n",
       "3                                            Quarter       ...   \n",
       "4                                                  3       ...   \n",
       "\n",
       "  Construction (E) ;  Construction services ;.2 Construction (E) ;.2  \\\n",
       "0                                    $ Millions           $ Millions   \n",
       "1                                      Original             Original   \n",
       "2                                       DERIVED              DERIVED   \n",
       "3                                       Quarter              Quarter   \n",
       "4                                             3                    3   \n",
       "\n",
       "  Wholesale trade (F) ;.2 Retail trade (G) ;.2  \\\n",
       "0              $ Millions           $ Millions   \n",
       "1                Original             Original   \n",
       "2                 DERIVED              DERIVED   \n",
       "3                 Quarter              Quarter   \n",
       "4                       3                    3   \n",
       "\n",
       "  Accommodation and food services (H) ;.2  \\\n",
       "0                              $ Millions   \n",
       "1                                Original   \n",
       "2                                 DERIVED   \n",
       "3                                 Quarter   \n",
       "4                                       3   \n",
       "\n",
       "  Transport, postal and warehousing (I) ;  Road ;.2  \\\n",
       "0                                        $ Millions   \n",
       "1                                          Original   \n",
       "2                                           DERIVED   \n",
       "3                                           Quarter   \n",
       "4                                                 3   \n",
       "\n",
       "  Transport, postal and warehousing (I) ;  Air and space transport ;.2  \\\n",
       "0                                         $ Millions                     \n",
       "1                                           Original                     \n",
       "2                                            DERIVED                     \n",
       "3                                            Quarter                     \n",
       "4                                                  3                     \n",
       "\n",
       "  Transport, postal and warehousing (I) ;  Rail, pipeline and other transport ;.2  \\\n",
       "0                                         $ Millions                                \n",
       "1                                           Original                                \n",
       "2                                            DERIVED                                \n",
       "3                                            Quarter                                \n",
       "4                                                  3                                \n",
       "\n",
       "  Transport, postal and warehousing (I) ;  Transport, postal and storage services ;.2  \\\n",
       "0                                         $ Millions                                    \n",
       "1                                           Original                                    \n",
       "2                                            DERIVED                                    \n",
       "3                                            Quarter                                    \n",
       "4                                                  3                                    \n",
       "\n",
       "  Transport, postal and warehousing (I) ;.2  \n",
       "0                                $ Millions  \n",
       "1                                  Original  \n",
       "2                                   DERIVED  \n",
       "3                                   Quarter  \n",
       "4                                         3  \n",
       "\n",
       "[5 rows x 251 columns]"
      ]
     },
     "execution_count": 2,
     "metadata": {},
     "output_type": "execute_result"
    }
   ],
   "source": [
    "pd.set_option('display.max_rows', 500)\n",
    "df = pd.read_excel(\"https://www.abs.gov.au/ausstats/meisubs.nsf/ \\\n",
    "log?openagent&5206006_industry_gva.xls&5206.0&Time%20Series%20Spreadsheet&15740D8C8E5627D1CA25840F00187F6F&0& \\\n",
    "Mar%202019&05.06.2019&Latest\", sheet_name='Data1')\n",
    "df.head()"
   ]
  },
  {
   "cell_type": "markdown",
   "metadata": {},
   "source": [
    "Source: ABS\n",
    "\n",
    "WHICH SERIES SHOULD I USE?\n",
    "\n",
    "The original, seasonally adjusted and trend estimates are three separate series describing different aspects of the same data. These series are useful for different purposes.\n",
    "\n",
    "\n",
    "ORIGINAL ESTIMATES\n",
    "\n",
    "The original is the best estimate we can make of the level of activity at any particular point in time. These are the estimates you’d use when focusing on history - e.g. auditing, comparing different data sources, assessing market share. Note that different months are not directly comparable.\n",
    "\n",
    "\n",
    "SEASONALLY ADJUSTED ESTIMATES\n",
    "\n",
    "Seasonally adjusted estimates are produced by removing seasonal patterns from the original estimates. They are good for performance measures and comparisons - was that advertising campaign effective, how much tourist traffic did we lose because of the Tsunami, is unemployment doing better in QLD than in TAS. Again, they’re very history focused. Different months are comparable but month-to-month movements are usually dominated by irregular effects.\n",
    "\n",
    "\n",
    "#### TREND ESTIMATES - Using\n",
    "\n",
    "Trend estimates are produced by smoothing noise from the seasonally adjusted estimates. This is the best source of information for forecasting or making decisions about what to do in the future. It is directly comparable at different points in time. Trend estimates are revised as new original estimates become available. This makes sure we have the most up-to-date and best possible estimate.\n",
    "\n",
    "For some questions you need to consider more than one series. Few retailers would hire many staff in late December, because sales consistently drop in January - something you can see from the seasonal pattern, the original minus the seasonally adjusted."
   ]
  },
  {
   "cell_type": "code",
   "execution_count": 3,
   "metadata": {},
   "outputs": [],
   "source": [
    "columns = [\"Unnamed: 0\",\n",
    "\"Agriculture, forestry and fishing (A) ;\",\n",
    "\"Mining (B) ;\",\n",
    "\"Manufacturing (C) ;\",\n",
    "\"Electricity, gas, water and waste services (D) ;\",\n",
    "\"Construction (E) ;\",\n",
    "\"Wholesale trade (F) ;\",\n",
    "\"Retail trade (G) ;\",\n",
    "\"Accommodation and food services (H) ;\",\n",
    "\"Transport, postal and warehousing (I) ;\",\n",
    "\"Information media and telecommunications (J) ;\",\n",
    "\"Financial and insurance services (K) ;\",\n",
    "\"Rental, hiring and real estate services (L) ;\",\n",
    "\"Professional, scientific and technical services (M) ;\",\n",
    "\"Administrative and support services (N) ;\",\n",
    "\"Public administration and safety (O) ;\",\n",
    "\"Education and training (P) ;\",\n",
    "\"Health care and social assistance (Q) ;\",\n",
    "\"Arts and recreation services (R) ;\",\n",
    "\"Other services (S) ;\",\n",
    "\"Ownership of dwellings ;\",\n",
    "\"Taxes less subsidies on products ;\",\n",
    "\"Statistical discrepancy (P) ;\"]"
   ]
  },
  {
   "cell_type": "code",
   "execution_count": 4,
   "metadata": {},
   "outputs": [
    {
     "data": {
      "text/html": [
       "<div>\n",
       "<style scoped>\n",
       "    .dataframe tbody tr th:only-of-type {\n",
       "        vertical-align: middle;\n",
       "    }\n",
       "\n",
       "    .dataframe tbody tr th {\n",
       "        vertical-align: top;\n",
       "    }\n",
       "\n",
       "    .dataframe thead th {\n",
       "        text-align: right;\n",
       "    }\n",
       "</style>\n",
       "<table border=\"1\" class=\"dataframe\">\n",
       "  <thead>\n",
       "    <tr style=\"text-align: right;\">\n",
       "      <th></th>\n",
       "      <th>Unnamed: 0</th>\n",
       "      <th>Agriculture, forestry and fishing (A) ;</th>\n",
       "      <th>Mining (B) ;</th>\n",
       "      <th>Manufacturing (C) ;</th>\n",
       "      <th>Electricity, gas, water and waste services (D) ;</th>\n",
       "      <th>Construction (E) ;</th>\n",
       "      <th>Wholesale trade (F) ;</th>\n",
       "      <th>Retail trade (G) ;</th>\n",
       "      <th>Accommodation and food services (H) ;</th>\n",
       "      <th>Transport, postal and warehousing (I) ;</th>\n",
       "      <th>...</th>\n",
       "      <th>Professional, scientific and technical services (M) ;</th>\n",
       "      <th>Administrative and support services (N) ;</th>\n",
       "      <th>Public administration and safety (O) ;</th>\n",
       "      <th>Education and training (P) ;</th>\n",
       "      <th>Health care and social assistance (Q) ;</th>\n",
       "      <th>Arts and recreation services (R) ;</th>\n",
       "      <th>Other services (S) ;</th>\n",
       "      <th>Ownership of dwellings ;</th>\n",
       "      <th>Taxes less subsidies on products ;</th>\n",
       "      <th>Statistical discrepancy (P) ;</th>\n",
       "    </tr>\n",
       "  </thead>\n",
       "  <tbody>\n",
       "    <tr>\n",
       "      <th>0</th>\n",
       "      <td>Unit</td>\n",
       "      <td>$ Millions</td>\n",
       "      <td>$ Millions</td>\n",
       "      <td>$ Millions</td>\n",
       "      <td>$ Millions</td>\n",
       "      <td>$ Millions</td>\n",
       "      <td>$ Millions</td>\n",
       "      <td>$ Millions</td>\n",
       "      <td>$ Millions</td>\n",
       "      <td>$ Millions</td>\n",
       "      <td>...</td>\n",
       "      <td>$ Millions</td>\n",
       "      <td>$ Millions</td>\n",
       "      <td>$ Millions</td>\n",
       "      <td>$ Millions</td>\n",
       "      <td>$ Millions</td>\n",
       "      <td>$ Millions</td>\n",
       "      <td>$ Millions</td>\n",
       "      <td>$ Millions</td>\n",
       "      <td>$ Millions</td>\n",
       "      <td>$ Millions</td>\n",
       "    </tr>\n",
       "    <tr>\n",
       "      <th>1</th>\n",
       "      <td>Series Type</td>\n",
       "      <td>Trend</td>\n",
       "      <td>Trend</td>\n",
       "      <td>Trend</td>\n",
       "      <td>Trend</td>\n",
       "      <td>Trend</td>\n",
       "      <td>Trend</td>\n",
       "      <td>Trend</td>\n",
       "      <td>Trend</td>\n",
       "      <td>Trend</td>\n",
       "      <td>...</td>\n",
       "      <td>Trend</td>\n",
       "      <td>Trend</td>\n",
       "      <td>Trend</td>\n",
       "      <td>Trend</td>\n",
       "      <td>Trend</td>\n",
       "      <td>Trend</td>\n",
       "      <td>Trend</td>\n",
       "      <td>Trend</td>\n",
       "      <td>Trend</td>\n",
       "      <td>Trend</td>\n",
       "    </tr>\n",
       "    <tr>\n",
       "      <th>2</th>\n",
       "      <td>Data Type</td>\n",
       "      <td>DERIVED</td>\n",
       "      <td>DERIVED</td>\n",
       "      <td>DERIVED</td>\n",
       "      <td>DERIVED</td>\n",
       "      <td>DERIVED</td>\n",
       "      <td>DERIVED</td>\n",
       "      <td>DERIVED</td>\n",
       "      <td>DERIVED</td>\n",
       "      <td>DERIVED</td>\n",
       "      <td>...</td>\n",
       "      <td>DERIVED</td>\n",
       "      <td>DERIVED</td>\n",
       "      <td>DERIVED</td>\n",
       "      <td>DERIVED</td>\n",
       "      <td>DERIVED</td>\n",
       "      <td>DERIVED</td>\n",
       "      <td>DERIVED</td>\n",
       "      <td>DERIVED</td>\n",
       "      <td>DERIVED</td>\n",
       "      <td>DERIVED</td>\n",
       "    </tr>\n",
       "    <tr>\n",
       "      <th>3</th>\n",
       "      <td>Frequency</td>\n",
       "      <td>Quarter</td>\n",
       "      <td>Quarter</td>\n",
       "      <td>Quarter</td>\n",
       "      <td>Quarter</td>\n",
       "      <td>Quarter</td>\n",
       "      <td>Quarter</td>\n",
       "      <td>Quarter</td>\n",
       "      <td>Quarter</td>\n",
       "      <td>Quarter</td>\n",
       "      <td>...</td>\n",
       "      <td>Quarter</td>\n",
       "      <td>Quarter</td>\n",
       "      <td>Quarter</td>\n",
       "      <td>Quarter</td>\n",
       "      <td>Quarter</td>\n",
       "      <td>Quarter</td>\n",
       "      <td>Quarter</td>\n",
       "      <td>Quarter</td>\n",
       "      <td>Quarter</td>\n",
       "      <td>Quarter</td>\n",
       "    </tr>\n",
       "    <tr>\n",
       "      <th>4</th>\n",
       "      <td>Collection Month</td>\n",
       "      <td>3</td>\n",
       "      <td>3</td>\n",
       "      <td>3</td>\n",
       "      <td>3</td>\n",
       "      <td>3</td>\n",
       "      <td>3</td>\n",
       "      <td>3</td>\n",
       "      <td>3</td>\n",
       "      <td>3</td>\n",
       "      <td>...</td>\n",
       "      <td>3</td>\n",
       "      <td>3</td>\n",
       "      <td>3</td>\n",
       "      <td>3</td>\n",
       "      <td>3</td>\n",
       "      <td>3</td>\n",
       "      <td>3</td>\n",
       "      <td>3</td>\n",
       "      <td>3</td>\n",
       "      <td>3</td>\n",
       "    </tr>\n",
       "  </tbody>\n",
       "</table>\n",
       "<p>5 rows × 23 columns</p>\n",
       "</div>"
      ],
      "text/plain": [
       "         Unnamed: 0 Agriculture, forestry and fishing (A) ; Mining (B) ;  \\\n",
       "0              Unit                              $ Millions   $ Millions   \n",
       "1       Series Type                                   Trend        Trend   \n",
       "2         Data Type                                 DERIVED      DERIVED   \n",
       "3         Frequency                                 Quarter      Quarter   \n",
       "4  Collection Month                                       3            3   \n",
       "\n",
       "  Manufacturing (C) ; Electricity, gas, water and waste services (D) ;  \\\n",
       "0          $ Millions                                       $ Millions   \n",
       "1               Trend                                            Trend   \n",
       "2             DERIVED                                          DERIVED   \n",
       "3             Quarter                                          Quarter   \n",
       "4                   3                                                3   \n",
       "\n",
       "  Construction (E) ; Wholesale trade (F) ; Retail trade (G) ;  \\\n",
       "0         $ Millions            $ Millions         $ Millions   \n",
       "1              Trend                 Trend              Trend   \n",
       "2            DERIVED               DERIVED            DERIVED   \n",
       "3            Quarter               Quarter            Quarter   \n",
       "4                  3                     3                  3   \n",
       "\n",
       "  Accommodation and food services (H) ;  \\\n",
       "0                            $ Millions   \n",
       "1                                 Trend   \n",
       "2                               DERIVED   \n",
       "3                               Quarter   \n",
       "4                                     3   \n",
       "\n",
       "  Transport, postal and warehousing (I) ;  ...  \\\n",
       "0                              $ Millions  ...   \n",
       "1                                   Trend  ...   \n",
       "2                                 DERIVED  ...   \n",
       "3                                 Quarter  ...   \n",
       "4                                       3  ...   \n",
       "\n",
       "  Professional, scientific and technical services (M) ;  \\\n",
       "0                                         $ Millions      \n",
       "1                                              Trend      \n",
       "2                                            DERIVED      \n",
       "3                                            Quarter      \n",
       "4                                                  3      \n",
       "\n",
       "  Administrative and support services (N) ;  \\\n",
       "0                                $ Millions   \n",
       "1                                     Trend   \n",
       "2                                   DERIVED   \n",
       "3                                   Quarter   \n",
       "4                                         3   \n",
       "\n",
       "  Public administration and safety (O) ; Education and training (P) ;  \\\n",
       "0                             $ Millions                   $ Millions   \n",
       "1                                  Trend                        Trend   \n",
       "2                                DERIVED                      DERIVED   \n",
       "3                                Quarter                      Quarter   \n",
       "4                                      3                            3   \n",
       "\n",
       "  Health care and social assistance (Q) ; Arts and recreation services (R) ;  \\\n",
       "0                              $ Millions                         $ Millions   \n",
       "1                                   Trend                              Trend   \n",
       "2                                 DERIVED                            DERIVED   \n",
       "3                                 Quarter                            Quarter   \n",
       "4                                       3                                  3   \n",
       "\n",
       "  Other services (S) ; Ownership of dwellings ;  \\\n",
       "0           $ Millions               $ Millions   \n",
       "1                Trend                    Trend   \n",
       "2              DERIVED                  DERIVED   \n",
       "3              Quarter                  Quarter   \n",
       "4                    3                        3   \n",
       "\n",
       "  Taxes less subsidies on products ; Statistical discrepancy (P) ;  \n",
       "0                         $ Millions                    $ Millions  \n",
       "1                              Trend                         Trend  \n",
       "2                            DERIVED                       DERIVED  \n",
       "3                            Quarter                       Quarter  \n",
       "4                                  3                             3  \n",
       "\n",
       "[5 rows x 23 columns]"
      ]
     },
     "execution_count": 4,
     "metadata": {},
     "output_type": "execute_result"
    }
   ],
   "source": [
    "df = df[columns]\n",
    "df.head()"
   ]
  },
  {
   "cell_type": "code",
   "execution_count": 5,
   "metadata": {},
   "outputs": [
    {
     "data": {
      "text/plain": [
       "Index(['Criteria', 'Agriculture, forestry and fishing', 'Mining',\n",
       "       'Manufacturing', 'Electricity, gas, water & waste services',\n",
       "       'Construction', 'Wholesale trade', 'Retail trade',\n",
       "       'Accommodation & food services', 'Transport, postal & warehousing',\n",
       "       'Information media & telecommunications',\n",
       "       'Financial & insurance services',\n",
       "       'Rental, hiring & real estate services',\n",
       "       'Professional, scientific & technical services',\n",
       "       'Administrative & support services', 'Public administration & safety',\n",
       "       'Education and training', 'Health care & social assistance',\n",
       "       'Arts & recreation services', 'Other services',\n",
       "       'Ownership of dwellings', 'Taxes less subsidies on products',\n",
       "       'Statistical discrepancy'],\n",
       "      dtype='object')"
      ]
     },
     "execution_count": 5,
     "metadata": {},
     "output_type": "execute_result"
    }
   ],
   "source": [
    "df.rename(columns={'Unnamed: 0': 'Criteria',\n",
    "                   'Agriculture, forestry and fishing (A) ;':'Agriculture, forestry and fishing',\n",
    "                  'Mining (B) ;': 'Mining',\n",
    "                  'Manufacturing (C) ;': 'Manufacturing',\n",
    "                  'Electricity, gas, water and waste services (D) ;': 'Electricity, gas, water & waste services',\n",
    "                  'Construction (E) ;': 'Construction',\n",
    "                   'Wholesale trade (F) ;': 'Wholesale trade',\n",
    "                   'Retail trade (G) ;': 'Retail trade',\n",
    "                   'Accommodation and food services (H) ;': 'Accommodation & food services',\n",
    "                   'Transport, postal and warehousing (I) ;': 'Transport, postal & warehousing',\n",
    "                   'Information media and telecommunications (J) ;': 'Information media & telecommunications',\n",
    "                   'Financial and insurance services (K) ;':'Financial & insurance services',\n",
    "                   'Rental, hiring and real estate services (L) ;':'Rental, hiring & real estate services',\n",
    "                   'Professional, scientific and technical services (M) ;':'Professional, scientific & technical services',\n",
    "                   'Administrative and support services (N) ;':'Administrative & support services',\n",
    "                   'Public administration and safety (O) ;':'Public administration & safety',\n",
    "                   'Education and training (P) ;': 'Education and training',\n",
    "                   'Health care and social assistance (Q) ;': 'Health care & social assistance',\n",
    "                   'Arts and recreation services (R) ;':'Arts & recreation services',\n",
    "                   'Other services (S) ;': 'Other services',\n",
    "                   'Ownership of dwellings ;':'Ownership of dwellings',\n",
    "                  'Taxes less subsidies on products ;':'Taxes less subsidies on products',\n",
    "                  'Statistical discrepancy (P) ;': 'Statistical discrepancy'}, inplace=True)\n",
    "          \n",
    "df.columns"
   ]
  },
  {
   "cell_type": "code",
   "execution_count": 6,
   "metadata": {},
   "outputs": [],
   "source": [
    "df.set_index('Criteria', inplace=True)"
   ]
  },
  {
   "cell_type": "code",
   "execution_count": 7,
   "metadata": {},
   "outputs": [],
   "source": [
    "df.drop(['Unit', 'Series Type', 'Data Type','Frequency', 'Collection Month',\n",
    "         'Series Start','Series End', 'No. Obs', 'Series ID'], inplace= True)\n"
   ]
  },
  {
   "cell_type": "code",
   "execution_count": 8,
   "metadata": {},
   "outputs": [
    {
     "data": {
      "text/html": [
       "<div>\n",
       "<style scoped>\n",
       "    .dataframe tbody tr th:only-of-type {\n",
       "        vertical-align: middle;\n",
       "    }\n",
       "\n",
       "    .dataframe tbody tr th {\n",
       "        vertical-align: top;\n",
       "    }\n",
       "\n",
       "    .dataframe thead th {\n",
       "        text-align: right;\n",
       "    }\n",
       "</style>\n",
       "<table border=\"1\" class=\"dataframe\">\n",
       "  <thead>\n",
       "    <tr style=\"text-align: right;\">\n",
       "      <th></th>\n",
       "      <th>Agriculture, forestry and fishing</th>\n",
       "      <th>Mining</th>\n",
       "      <th>Manufacturing</th>\n",
       "      <th>Electricity, gas, water &amp; waste services</th>\n",
       "      <th>Construction</th>\n",
       "      <th>Wholesale trade</th>\n",
       "      <th>Retail trade</th>\n",
       "      <th>Accommodation &amp; food services</th>\n",
       "      <th>Transport, postal &amp; warehousing</th>\n",
       "      <th>Information media &amp; telecommunications</th>\n",
       "      <th>...</th>\n",
       "      <th>Professional, scientific &amp; technical services</th>\n",
       "      <th>Administrative &amp; support services</th>\n",
       "      <th>Public administration &amp; safety</th>\n",
       "      <th>Education and training</th>\n",
       "      <th>Health care &amp; social assistance</th>\n",
       "      <th>Arts &amp; recreation services</th>\n",
       "      <th>Other services</th>\n",
       "      <th>Ownership of dwellings</th>\n",
       "      <th>Taxes less subsidies on products</th>\n",
       "      <th>Statistical discrepancy</th>\n",
       "    </tr>\n",
       "    <tr>\n",
       "      <th>Date</th>\n",
       "      <th></th>\n",
       "      <th></th>\n",
       "      <th></th>\n",
       "      <th></th>\n",
       "      <th></th>\n",
       "      <th></th>\n",
       "      <th></th>\n",
       "      <th></th>\n",
       "      <th></th>\n",
       "      <th></th>\n",
       "      <th></th>\n",
       "      <th></th>\n",
       "      <th></th>\n",
       "      <th></th>\n",
       "      <th></th>\n",
       "      <th></th>\n",
       "      <th></th>\n",
       "      <th></th>\n",
       "      <th></th>\n",
       "      <th></th>\n",
       "      <th></th>\n",
       "    </tr>\n",
       "  </thead>\n",
       "  <tbody>\n",
       "    <tr>\n",
       "      <th>1959-09-01</th>\n",
       "      <td>NaN</td>\n",
       "      <td>NaN</td>\n",
       "      <td>NaN</td>\n",
       "      <td>NaN</td>\n",
       "      <td>NaN</td>\n",
       "      <td>NaN</td>\n",
       "      <td>NaN</td>\n",
       "      <td>NaN</td>\n",
       "      <td>NaN</td>\n",
       "      <td>NaN</td>\n",
       "      <td>...</td>\n",
       "      <td>NaN</td>\n",
       "      <td>NaN</td>\n",
       "      <td>NaN</td>\n",
       "      <td>NaN</td>\n",
       "      <td>NaN</td>\n",
       "      <td>NaN</td>\n",
       "      <td>NaN</td>\n",
       "      <td>NaN</td>\n",
       "      <td>NaN</td>\n",
       "      <td>1044</td>\n",
       "    </tr>\n",
       "    <tr>\n",
       "      <th>1959-12-01</th>\n",
       "      <td>NaN</td>\n",
       "      <td>NaN</td>\n",
       "      <td>NaN</td>\n",
       "      <td>NaN</td>\n",
       "      <td>NaN</td>\n",
       "      <td>NaN</td>\n",
       "      <td>NaN</td>\n",
       "      <td>NaN</td>\n",
       "      <td>NaN</td>\n",
       "      <td>NaN</td>\n",
       "      <td>...</td>\n",
       "      <td>NaN</td>\n",
       "      <td>NaN</td>\n",
       "      <td>NaN</td>\n",
       "      <td>NaN</td>\n",
       "      <td>NaN</td>\n",
       "      <td>NaN</td>\n",
       "      <td>NaN</td>\n",
       "      <td>NaN</td>\n",
       "      <td>NaN</td>\n",
       "      <td>713</td>\n",
       "    </tr>\n",
       "    <tr>\n",
       "      <th>1960-03-01</th>\n",
       "      <td>NaN</td>\n",
       "      <td>NaN</td>\n",
       "      <td>NaN</td>\n",
       "      <td>NaN</td>\n",
       "      <td>NaN</td>\n",
       "      <td>NaN</td>\n",
       "      <td>NaN</td>\n",
       "      <td>NaN</td>\n",
       "      <td>NaN</td>\n",
       "      <td>NaN</td>\n",
       "      <td>...</td>\n",
       "      <td>NaN</td>\n",
       "      <td>NaN</td>\n",
       "      <td>NaN</td>\n",
       "      <td>NaN</td>\n",
       "      <td>NaN</td>\n",
       "      <td>NaN</td>\n",
       "      <td>NaN</td>\n",
       "      <td>NaN</td>\n",
       "      <td>NaN</td>\n",
       "      <td>434</td>\n",
       "    </tr>\n",
       "    <tr>\n",
       "      <th>1960-06-01</th>\n",
       "      <td>NaN</td>\n",
       "      <td>NaN</td>\n",
       "      <td>NaN</td>\n",
       "      <td>NaN</td>\n",
       "      <td>NaN</td>\n",
       "      <td>NaN</td>\n",
       "      <td>NaN</td>\n",
       "      <td>NaN</td>\n",
       "      <td>NaN</td>\n",
       "      <td>NaN</td>\n",
       "      <td>...</td>\n",
       "      <td>NaN</td>\n",
       "      <td>NaN</td>\n",
       "      <td>NaN</td>\n",
       "      <td>NaN</td>\n",
       "      <td>NaN</td>\n",
       "      <td>NaN</td>\n",
       "      <td>NaN</td>\n",
       "      <td>NaN</td>\n",
       "      <td>NaN</td>\n",
       "      <td>212</td>\n",
       "    </tr>\n",
       "    <tr>\n",
       "      <th>1960-09-01</th>\n",
       "      <td>NaN</td>\n",
       "      <td>NaN</td>\n",
       "      <td>NaN</td>\n",
       "      <td>NaN</td>\n",
       "      <td>NaN</td>\n",
       "      <td>NaN</td>\n",
       "      <td>NaN</td>\n",
       "      <td>NaN</td>\n",
       "      <td>NaN</td>\n",
       "      <td>NaN</td>\n",
       "      <td>...</td>\n",
       "      <td>NaN</td>\n",
       "      <td>NaN</td>\n",
       "      <td>NaN</td>\n",
       "      <td>NaN</td>\n",
       "      <td>NaN</td>\n",
       "      <td>NaN</td>\n",
       "      <td>NaN</td>\n",
       "      <td>NaN</td>\n",
       "      <td>NaN</td>\n",
       "      <td>246</td>\n",
       "    </tr>\n",
       "  </tbody>\n",
       "</table>\n",
       "<p>5 rows × 22 columns</p>\n",
       "</div>"
      ],
      "text/plain": [
       "           Agriculture, forestry and fishing Mining Manufacturing  \\\n",
       "Date                                                                \n",
       "1959-09-01                               NaN    NaN           NaN   \n",
       "1959-12-01                               NaN    NaN           NaN   \n",
       "1960-03-01                               NaN    NaN           NaN   \n",
       "1960-06-01                               NaN    NaN           NaN   \n",
       "1960-09-01                               NaN    NaN           NaN   \n",
       "\n",
       "           Electricity, gas, water & waste services Construction  \\\n",
       "Date                                                               \n",
       "1959-09-01                                      NaN          NaN   \n",
       "1959-12-01                                      NaN          NaN   \n",
       "1960-03-01                                      NaN          NaN   \n",
       "1960-06-01                                      NaN          NaN   \n",
       "1960-09-01                                      NaN          NaN   \n",
       "\n",
       "           Wholesale trade Retail trade Accommodation & food services  \\\n",
       "Date                                                                    \n",
       "1959-09-01             NaN          NaN                           NaN   \n",
       "1959-12-01             NaN          NaN                           NaN   \n",
       "1960-03-01             NaN          NaN                           NaN   \n",
       "1960-06-01             NaN          NaN                           NaN   \n",
       "1960-09-01             NaN          NaN                           NaN   \n",
       "\n",
       "           Transport, postal & warehousing  \\\n",
       "Date                                         \n",
       "1959-09-01                             NaN   \n",
       "1959-12-01                             NaN   \n",
       "1960-03-01                             NaN   \n",
       "1960-06-01                             NaN   \n",
       "1960-09-01                             NaN   \n",
       "\n",
       "           Information media & telecommunications  ...  \\\n",
       "Date                                               ...   \n",
       "1959-09-01                                    NaN  ...   \n",
       "1959-12-01                                    NaN  ...   \n",
       "1960-03-01                                    NaN  ...   \n",
       "1960-06-01                                    NaN  ...   \n",
       "1960-09-01                                    NaN  ...   \n",
       "\n",
       "           Professional, scientific & technical services  \\\n",
       "Date                                                       \n",
       "1959-09-01                                           NaN   \n",
       "1959-12-01                                           NaN   \n",
       "1960-03-01                                           NaN   \n",
       "1960-06-01                                           NaN   \n",
       "1960-09-01                                           NaN   \n",
       "\n",
       "           Administrative & support services Public administration & safety  \\\n",
       "Date                                                                          \n",
       "1959-09-01                               NaN                            NaN   \n",
       "1959-12-01                               NaN                            NaN   \n",
       "1960-03-01                               NaN                            NaN   \n",
       "1960-06-01                               NaN                            NaN   \n",
       "1960-09-01                               NaN                            NaN   \n",
       "\n",
       "           Education and training Health care & social assistance  \\\n",
       "Date                                                                \n",
       "1959-09-01                    NaN                             NaN   \n",
       "1959-12-01                    NaN                             NaN   \n",
       "1960-03-01                    NaN                             NaN   \n",
       "1960-06-01                    NaN                             NaN   \n",
       "1960-09-01                    NaN                             NaN   \n",
       "\n",
       "           Arts & recreation services Other services Ownership of dwellings  \\\n",
       "Date                                                                          \n",
       "1959-09-01                        NaN            NaN                    NaN   \n",
       "1959-12-01                        NaN            NaN                    NaN   \n",
       "1960-03-01                        NaN            NaN                    NaN   \n",
       "1960-06-01                        NaN            NaN                    NaN   \n",
       "1960-09-01                        NaN            NaN                    NaN   \n",
       "\n",
       "           Taxes less subsidies on products Statistical discrepancy  \n",
       "Date                                                                 \n",
       "1959-09-01                              NaN                    1044  \n",
       "1959-12-01                              NaN                     713  \n",
       "1960-03-01                              NaN                     434  \n",
       "1960-06-01                              NaN                     212  \n",
       "1960-09-01                              NaN                     246  \n",
       "\n",
       "[5 rows x 22 columns]"
      ]
     },
     "execution_count": 8,
     "metadata": {},
     "output_type": "execute_result"
    }
   ],
   "source": [
    "df.index = pd.to_datetime(df.index)\n",
    "df.index.names = ['Date']\n",
    "df.head()"
   ]
  },
  {
   "cell_type": "code",
   "execution_count": 9,
   "metadata": {},
   "outputs": [],
   "source": [
    "Prior_Year = df['2017-06-01' :'2018-03-01']\n",
    "Current_Year = df['2018-06-01' :'2019-03-01']"
   ]
  },
  {
   "cell_type": "code",
   "execution_count": 10,
   "metadata": {},
   "outputs": [],
   "source": [
    "# Prior Year Calculations\n",
    "Agr_PY = Prior_Year['Agriculture, forestry and fishing'].sum()\n",
    "Mining_PY = Prior_Year['Mining'].sum()\n",
    "Manufact_PY = Prior_Year['Manufacturing'].sum()\n",
    "Elect_PY = Prior_Year['Electricity, gas, water & waste services'].sum()\n",
    "Construct_PY = Prior_Year['Construction'].sum()\n",
    "WholeTrade_PY = Prior_Year['Wholesale trade'].sum()\n",
    "RetailTrade_PY = Prior_Year['Retail trade'].sum()\n",
    "AccomFS_PY = Prior_Year['Accommodation & food services'].sum()\n",
    "Transport_PY = Prior_Year['Transport, postal & warehousing'].sum()\n",
    "Info_PY = Prior_Year['Information media & telecommunications'].sum()\n",
    "Financial_PY = Prior_Year['Financial & insurance services'].sum()\n",
    "Rental_PY = Prior_Year['Rental, hiring & real estate services'].sum()\n",
    "Professional_PY = Prior_Year['Professional, scientific & technical services'].sum()\n",
    "Admin_PY = Prior_Year['Administrative & support services'].sum()\n",
    "Public_PY = Prior_Year['Public administration & safety'].sum()\n",
    "Educate_PY = Prior_Year['Education and training'].sum()\n",
    "Health_PY = Prior_Year['Health care & social assistance'].sum()\n",
    "Arts_PY = Prior_Year['Arts & recreation services'].sum()\n",
    "Other_PY = Prior_Year['Other services'].sum()\n",
    "Owner_PY = Prior_Year['Ownership of dwellings'].sum()\n",
    "Taxes_PY = Prior_Year['Taxes less subsidies on products'].sum()\n",
    "Stats_PY = Prior_Year['Statistical discrepancy'].sum()\n",
    "\n",
    "Prior_Year_Sum = np.sum([Agr_PY, Mining_PY, Manufact_PY, Elect_PY, Construct_PY, WholeTrade_PY, RetailTrade_PY, AccomFS_PY,\n",
    "                 Transport_PY, Info_PY, Financial_PY, Rental_PY, Professional_PY, Admin_PY, Public_PY,\n",
    "                 Educate_PY, Health_PY, Arts_PY, Other_PY, Owner_PY, Taxes_PY, Stats_PY])\n",
    "\n",
    "#This Year Calculations\n",
    "Agr_CY = Current_Year['Agriculture, forestry and fishing'].sum()\n",
    "Mining_CY = Current_Year['Mining'].sum()\n",
    "Manufact_CY = Current_Year['Manufacturing'].sum()\n",
    "Elect_CY = Current_Year['Electricity, gas, water & waste services'].sum()\n",
    "Construct_CY = Current_Year['Construction'].sum()\n",
    "WholeTrade_CY = Current_Year['Wholesale trade'].sum()\n",
    "RetailTrade_CY = Current_Year['Retail trade'].sum()\n",
    "AccomFS_CY = Current_Year['Accommodation & food services'].sum()\n",
    "Transport_CY = Current_Year['Transport, postal & warehousing'].sum()\n",
    "Info_CY = Current_Year['Information media & telecommunications'].sum()\n",
    "Financial_CY = Current_Year['Financial & insurance services'].sum()\n",
    "Rental_CY = Current_Year['Rental, hiring & real estate services'].sum()\n",
    "Professional_CY = Current_Year['Professional, scientific & technical services'].sum()\n",
    "Admin_CY = Current_Year['Administrative & support services'].sum()\n",
    "Public_CY = Current_Year['Public administration & safety'].sum()\n",
    "Educate_CY = Current_Year['Education and training'].sum()\n",
    "Health_CY = Current_Year['Health care & social assistance'].sum()\n",
    "Arts_CY = Current_Year['Arts & recreation services'].sum()\n",
    "Other_CY = Current_Year['Other services'].sum()\n",
    "Owner_CY = Current_Year['Ownership of dwellings'].sum()\n",
    "Taxes_CY = Current_Year['Taxes less subsidies on products'].sum()\n",
    "Stats_CY = Current_Year['Statistical discrepancy'].sum()\n",
    "\n",
    "Current_Year_Sum = np.sum([Agr_CY, Mining_CY, Manufact_CY, Elect_CY, Construct_CY, WholeTrade_CY, RetailTrade_CY, AccomFS_CY,\n",
    "                 Transport_CY, Info_CY, Financial_CY, Rental_CY, Professional_CY, Admin_CY, Public_CY,\n",
    "                 Educate_CY, Health_CY, Arts_CY, Other_CY, Owner_CY, Taxes_CY, Stats_CY])"
   ]
  },
  {
   "cell_type": "code",
   "execution_count": 44,
   "metadata": {},
   "outputs": [
    {
     "name": "stdout",
     "output_type": "stream",
     "text": [
      "1845950\n",
      "1801558\n"
     ]
    }
   ],
   "source": [
    "print(Current_Year_Sum)\n",
    "print(Prior_Year_Sum)"
   ]
  },
  {
   "cell_type": "code",
   "execution_count": 12,
   "metadata": {},
   "outputs": [],
   "source": [
    "#Change over prior year\n",
    "\n",
    "Agr = Agr_CY - Agr_PY \n",
    "Mining = Mining_CY - Mining_PY \n",
    "Manufact = Manufact_CY - Manufact_PY \n",
    "Elect = Elect_CY - Elect_PY \n",
    "Construct = Construct_CY - Construct_PY \n",
    "WholeTrade = WholeTrade_CY - WholeTrade_PY \n",
    "RetailTrade = RetailTrade_CY - RetailTrade_PY \n",
    "AccomFS = AccomFS_CY - AccomFS_PY \n",
    "Transport = Transport_CY - Transport_PY \n",
    "Info = Info_CY - Info_PY \n",
    "Financial = Financial_CY - Financial_PY \n",
    "Rental = Rental_CY - Rental_PY \n",
    "Professional = Professional_CY - Professional_PY \n",
    "Admin = Admin_CY - Admin_PY \n",
    "Public = Public_CY - Public_PY\n",
    "Educate = Educate_CY - Educate_PY \n",
    "Health = Health_CY - Health_PY \n",
    "Arts = Arts_CY - Arts_PY\n",
    "Other = Other_CY - Other_PY \n",
    "Owner = Owner_CY - Owner_PY \n",
    "Taxes = Taxes_CY - Taxes_PY\n",
    "Stats = Stats_CY - Stats_PY"
   ]
  },
  {
   "cell_type": "code",
   "execution_count": 74,
   "metadata": {},
   "outputs": [
    {
     "data": {
      "application/vnd.plotly.v1+json": {
       "config": {
        "plotlyServerURL": "https://plot.ly"
       },
       "data": [
        {
         "connector": {
          "line": {
           "color": "rgb(0, 0, 0)",
           "dash": "solid",
           "width": 4
          },
          "mode": "between"
         },
         "measure": [
          "absolute",
          "relative",
          "relative",
          "relative",
          "relative",
          "relative",
          "relative",
          "relative",
          "relative",
          "relative",
          "relative",
          "relative",
          "relative",
          "relative",
          "relative",
          "relative",
          "relative",
          "relative",
          "relative",
          "relative",
          "relative",
          "relative",
          "relative",
          "absolute"
         ],
         "name": "2018",
         "orientation": "h",
         "type": "waterfall",
         "x": [
          1801558,
          -3384,
          7616,
          89,
          387,
          -1516,
          936,
          1151,
          508,
          63,
          889,
          4060,
          1002,
          4262,
          2716,
          4096,
          1703,
          9027,
          707,
          1513,
          3645,
          1175,
          3747,
          1845950
         ],
         "x0": 1500000,
         "y": [
          "Prior Year",
          "Agriculture, forestry and fishing",
          "Mining",
          "Manufacturing",
          "Electricity, gas, water & waste services",
          "Construction",
          "Wholesale trade",
          "Retail trade",
          "Accommodation & food services",
          "Transport, postal & warehousing",
          "Information media & telecommunications",
          "Financial & insurance services",
          "Rental, hiring & real estate services",
          "Professional, scientific & technical services",
          "Administrative & support services",
          "Public administration & safety",
          "Education and training",
          "Health care & social assistance",
          "Arts & recreation services",
          "Other services",
          "Ownership of dwellings",
          "Taxes less subsidies on products",
          "Statistical discrepancy",
          "Current Year"
         ]
        }
       ],
       "layout": {
        "height": 900,
        "template": {
         "data": {
          "bar": [
           {
            "error_x": {
             "color": "#2a3f5f"
            },
            "error_y": {
             "color": "#2a3f5f"
            },
            "marker": {
             "line": {
              "color": "#E5ECF6",
              "width": 0.5
             }
            },
            "type": "bar"
           }
          ],
          "barpolar": [
           {
            "marker": {
             "line": {
              "color": "#E5ECF6",
              "width": 0.5
             }
            },
            "type": "barpolar"
           }
          ],
          "carpet": [
           {
            "aaxis": {
             "endlinecolor": "#2a3f5f",
             "gridcolor": "white",
             "linecolor": "white",
             "minorgridcolor": "white",
             "startlinecolor": "#2a3f5f"
            },
            "baxis": {
             "endlinecolor": "#2a3f5f",
             "gridcolor": "white",
             "linecolor": "white",
             "minorgridcolor": "white",
             "startlinecolor": "#2a3f5f"
            },
            "type": "carpet"
           }
          ],
          "choropleth": [
           {
            "colorbar": {
             "outlinewidth": 0,
             "ticks": ""
            },
            "type": "choropleth"
           }
          ],
          "contour": [
           {
            "colorbar": {
             "outlinewidth": 0,
             "ticks": ""
            },
            "colorscale": [
             [
              0,
              "#0d0887"
             ],
             [
              0.1111111111111111,
              "#46039f"
             ],
             [
              0.2222222222222222,
              "#7201a8"
             ],
             [
              0.3333333333333333,
              "#9c179e"
             ],
             [
              0.4444444444444444,
              "#bd3786"
             ],
             [
              0.5555555555555556,
              "#d8576b"
             ],
             [
              0.6666666666666666,
              "#ed7953"
             ],
             [
              0.7777777777777778,
              "#fb9f3a"
             ],
             [
              0.8888888888888888,
              "#fdca26"
             ],
             [
              1,
              "#f0f921"
             ]
            ],
            "type": "contour"
           }
          ],
          "contourcarpet": [
           {
            "colorbar": {
             "outlinewidth": 0,
             "ticks": ""
            },
            "type": "contourcarpet"
           }
          ],
          "heatmap": [
           {
            "colorbar": {
             "outlinewidth": 0,
             "ticks": ""
            },
            "colorscale": [
             [
              0,
              "#0d0887"
             ],
             [
              0.1111111111111111,
              "#46039f"
             ],
             [
              0.2222222222222222,
              "#7201a8"
             ],
             [
              0.3333333333333333,
              "#9c179e"
             ],
             [
              0.4444444444444444,
              "#bd3786"
             ],
             [
              0.5555555555555556,
              "#d8576b"
             ],
             [
              0.6666666666666666,
              "#ed7953"
             ],
             [
              0.7777777777777778,
              "#fb9f3a"
             ],
             [
              0.8888888888888888,
              "#fdca26"
             ],
             [
              1,
              "#f0f921"
             ]
            ],
            "type": "heatmap"
           }
          ],
          "heatmapgl": [
           {
            "colorbar": {
             "outlinewidth": 0,
             "ticks": ""
            },
            "colorscale": [
             [
              0,
              "#0d0887"
             ],
             [
              0.1111111111111111,
              "#46039f"
             ],
             [
              0.2222222222222222,
              "#7201a8"
             ],
             [
              0.3333333333333333,
              "#9c179e"
             ],
             [
              0.4444444444444444,
              "#bd3786"
             ],
             [
              0.5555555555555556,
              "#d8576b"
             ],
             [
              0.6666666666666666,
              "#ed7953"
             ],
             [
              0.7777777777777778,
              "#fb9f3a"
             ],
             [
              0.8888888888888888,
              "#fdca26"
             ],
             [
              1,
              "#f0f921"
             ]
            ],
            "type": "heatmapgl"
           }
          ],
          "histogram": [
           {
            "marker": {
             "colorbar": {
              "outlinewidth": 0,
              "ticks": ""
             }
            },
            "type": "histogram"
           }
          ],
          "histogram2d": [
           {
            "colorbar": {
             "outlinewidth": 0,
             "ticks": ""
            },
            "colorscale": [
             [
              0,
              "#0d0887"
             ],
             [
              0.1111111111111111,
              "#46039f"
             ],
             [
              0.2222222222222222,
              "#7201a8"
             ],
             [
              0.3333333333333333,
              "#9c179e"
             ],
             [
              0.4444444444444444,
              "#bd3786"
             ],
             [
              0.5555555555555556,
              "#d8576b"
             ],
             [
              0.6666666666666666,
              "#ed7953"
             ],
             [
              0.7777777777777778,
              "#fb9f3a"
             ],
             [
              0.8888888888888888,
              "#fdca26"
             ],
             [
              1,
              "#f0f921"
             ]
            ],
            "type": "histogram2d"
           }
          ],
          "histogram2dcontour": [
           {
            "colorbar": {
             "outlinewidth": 0,
             "ticks": ""
            },
            "colorscale": [
             [
              0,
              "#0d0887"
             ],
             [
              0.1111111111111111,
              "#46039f"
             ],
             [
              0.2222222222222222,
              "#7201a8"
             ],
             [
              0.3333333333333333,
              "#9c179e"
             ],
             [
              0.4444444444444444,
              "#bd3786"
             ],
             [
              0.5555555555555556,
              "#d8576b"
             ],
             [
              0.6666666666666666,
              "#ed7953"
             ],
             [
              0.7777777777777778,
              "#fb9f3a"
             ],
             [
              0.8888888888888888,
              "#fdca26"
             ],
             [
              1,
              "#f0f921"
             ]
            ],
            "type": "histogram2dcontour"
           }
          ],
          "mesh3d": [
           {
            "colorbar": {
             "outlinewidth": 0,
             "ticks": ""
            },
            "type": "mesh3d"
           }
          ],
          "parcoords": [
           {
            "line": {
             "colorbar": {
              "outlinewidth": 0,
              "ticks": ""
             }
            },
            "type": "parcoords"
           }
          ],
          "scatter": [
           {
            "marker": {
             "colorbar": {
              "outlinewidth": 0,
              "ticks": ""
             }
            },
            "type": "scatter"
           }
          ],
          "scatter3d": [
           {
            "line": {
             "colorbar": {
              "outlinewidth": 0,
              "ticks": ""
             }
            },
            "marker": {
             "colorbar": {
              "outlinewidth": 0,
              "ticks": ""
             }
            },
            "type": "scatter3d"
           }
          ],
          "scattercarpet": [
           {
            "marker": {
             "colorbar": {
              "outlinewidth": 0,
              "ticks": ""
             }
            },
            "type": "scattercarpet"
           }
          ],
          "scattergeo": [
           {
            "marker": {
             "colorbar": {
              "outlinewidth": 0,
              "ticks": ""
             }
            },
            "type": "scattergeo"
           }
          ],
          "scattergl": [
           {
            "marker": {
             "colorbar": {
              "outlinewidth": 0,
              "ticks": ""
             }
            },
            "type": "scattergl"
           }
          ],
          "scattermapbox": [
           {
            "marker": {
             "colorbar": {
              "outlinewidth": 0,
              "ticks": ""
             }
            },
            "type": "scattermapbox"
           }
          ],
          "scatterpolar": [
           {
            "marker": {
             "colorbar": {
              "outlinewidth": 0,
              "ticks": ""
             }
            },
            "type": "scatterpolar"
           }
          ],
          "scatterpolargl": [
           {
            "marker": {
             "colorbar": {
              "outlinewidth": 0,
              "ticks": ""
             }
            },
            "type": "scatterpolargl"
           }
          ],
          "scatterternary": [
           {
            "marker": {
             "colorbar": {
              "outlinewidth": 0,
              "ticks": ""
             }
            },
            "type": "scatterternary"
           }
          ],
          "surface": [
           {
            "colorbar": {
             "outlinewidth": 0,
             "ticks": ""
            },
            "colorscale": [
             [
              0,
              "#0d0887"
             ],
             [
              0.1111111111111111,
              "#46039f"
             ],
             [
              0.2222222222222222,
              "#7201a8"
             ],
             [
              0.3333333333333333,
              "#9c179e"
             ],
             [
              0.4444444444444444,
              "#bd3786"
             ],
             [
              0.5555555555555556,
              "#d8576b"
             ],
             [
              0.6666666666666666,
              "#ed7953"
             ],
             [
              0.7777777777777778,
              "#fb9f3a"
             ],
             [
              0.8888888888888888,
              "#fdca26"
             ],
             [
              1,
              "#f0f921"
             ]
            ],
            "type": "surface"
           }
          ],
          "table": [
           {
            "cells": {
             "fill": {
              "color": "#EBF0F8"
             },
             "line": {
              "color": "white"
             }
            },
            "header": {
             "fill": {
              "color": "#C8D4E3"
             },
             "line": {
              "color": "white"
             }
            },
            "type": "table"
           }
          ]
         },
         "layout": {
          "annotationdefaults": {
           "arrowcolor": "#2a3f5f",
           "arrowhead": 0,
           "arrowwidth": 1
          },
          "colorscale": {
           "diverging": [
            [
             0,
             "#8e0152"
            ],
            [
             0.1,
             "#c51b7d"
            ],
            [
             0.2,
             "#de77ae"
            ],
            [
             0.3,
             "#f1b6da"
            ],
            [
             0.4,
             "#fde0ef"
            ],
            [
             0.5,
             "#f7f7f7"
            ],
            [
             0.6,
             "#e6f5d0"
            ],
            [
             0.7,
             "#b8e186"
            ],
            [
             0.8,
             "#7fbc41"
            ],
            [
             0.9,
             "#4d9221"
            ],
            [
             1,
             "#276419"
            ]
           ],
           "sequential": [
            [
             0,
             "#0d0887"
            ],
            [
             0.1111111111111111,
             "#46039f"
            ],
            [
             0.2222222222222222,
             "#7201a8"
            ],
            [
             0.3333333333333333,
             "#9c179e"
            ],
            [
             0.4444444444444444,
             "#bd3786"
            ],
            [
             0.5555555555555556,
             "#d8576b"
            ],
            [
             0.6666666666666666,
             "#ed7953"
            ],
            [
             0.7777777777777778,
             "#fb9f3a"
            ],
            [
             0.8888888888888888,
             "#fdca26"
            ],
            [
             1,
             "#f0f921"
            ]
           ],
           "sequentialminus": [
            [
             0,
             "#0d0887"
            ],
            [
             0.1111111111111111,
             "#46039f"
            ],
            [
             0.2222222222222222,
             "#7201a8"
            ],
            [
             0.3333333333333333,
             "#9c179e"
            ],
            [
             0.4444444444444444,
             "#bd3786"
            ],
            [
             0.5555555555555556,
             "#d8576b"
            ],
            [
             0.6666666666666666,
             "#ed7953"
            ],
            [
             0.7777777777777778,
             "#fb9f3a"
            ],
            [
             0.8888888888888888,
             "#fdca26"
            ],
            [
             1,
             "#f0f921"
            ]
           ]
          },
          "colorway": [
           "#636efa",
           "#EF553B",
           "#00cc96",
           "#ab63fa",
           "#FFA15A",
           "#19d3f3",
           "#FF6692",
           "#B6E880",
           "#FF97FF",
           "#FECB52"
          ],
          "font": {
           "color": "#2a3f5f"
          },
          "geo": {
           "bgcolor": "white",
           "lakecolor": "white",
           "landcolor": "#E5ECF6",
           "showlakes": true,
           "showland": true,
           "subunitcolor": "white"
          },
          "hoverlabel": {
           "align": "left"
          },
          "hovermode": "closest",
          "mapbox": {
           "style": "light"
          },
          "paper_bgcolor": "white",
          "plot_bgcolor": "#E5ECF6",
          "polar": {
           "angularaxis": {
            "gridcolor": "white",
            "linecolor": "white",
            "ticks": ""
           },
           "bgcolor": "#E5ECF6",
           "radialaxis": {
            "gridcolor": "white",
            "linecolor": "white",
            "ticks": ""
           }
          },
          "scene": {
           "xaxis": {
            "backgroundcolor": "#E5ECF6",
            "gridcolor": "white",
            "gridwidth": 2,
            "linecolor": "white",
            "showbackground": true,
            "ticks": "",
            "zerolinecolor": "white"
           },
           "yaxis": {
            "backgroundcolor": "#E5ECF6",
            "gridcolor": "white",
            "gridwidth": 2,
            "linecolor": "white",
            "showbackground": true,
            "ticks": "",
            "zerolinecolor": "white"
           },
           "zaxis": {
            "backgroundcolor": "#E5ECF6",
            "gridcolor": "white",
            "gridwidth": 2,
            "linecolor": "white",
            "showbackground": true,
            "ticks": "",
            "zerolinecolor": "white"
           }
          },
          "shapedefaults": {
           "line": {
            "color": "#2a3f5f"
           }
          },
          "ternary": {
           "aaxis": {
            "gridcolor": "white",
            "linecolor": "white",
            "ticks": ""
           },
           "baxis": {
            "gridcolor": "white",
            "linecolor": "white",
            "ticks": ""
           },
           "bgcolor": "#E5ECF6",
           "caxis": {
            "gridcolor": "white",
            "linecolor": "white",
            "ticks": ""
           }
          },
          "title": {
           "x": 0.05
          },
          "xaxis": {
           "automargin": true,
           "gridcolor": "white",
           "linecolor": "white",
           "ticks": "",
           "zerolinecolor": "white",
           "zerolinewidth": 2
          },
          "yaxis": {
           "automargin": true,
           "gridcolor": "white",
           "linecolor": "white",
           "ticks": "",
           "zerolinecolor": "white",
           "zerolinewidth": 2
          }
         }
        },
        "title": {
         "text": "Break-Down of GDP Movements by ABS Category"
        },
        "xaxis": {
         "autorange": false,
         "range": [
          1780000,
          1860000
         ]
        }
       }
      },
      "text/html": [
       "<div>\n",
       "        \n",
       "        \n",
       "            <div id=\"0135d51f-3b62-4361-903e-c949b383dfb0\" class=\"plotly-graph-div\" style=\"height:900px; width:100%;\"></div>\n",
       "            <script type=\"text/javascript\">\n",
       "                require([\"plotly\"], function(Plotly) {\n",
       "                    window.PLOTLYENV=window.PLOTLYENV || {};\n",
       "                    \n",
       "                if (document.getElementById(\"0135d51f-3b62-4361-903e-c949b383dfb0\")) {\n",
       "                    Plotly.newPlot(\n",
       "                        '0135d51f-3b62-4361-903e-c949b383dfb0',\n",
       "                        [{\"connector\": {\"line\": {\"color\": \"rgb(0, 0, 0)\", \"dash\": \"solid\", \"width\": 4}, \"mode\": \"between\"}, \"measure\": [\"absolute\", \"relative\", \"relative\", \"relative\", \"relative\", \"relative\", \"relative\", \"relative\", \"relative\", \"relative\", \"relative\", \"relative\", \"relative\", \"relative\", \"relative\", \"relative\", \"relative\", \"relative\", \"relative\", \"relative\", \"relative\", \"relative\", \"relative\", \"absolute\"], \"name\": \"2018\", \"orientation\": \"h\", \"type\": \"waterfall\", \"x\": [1801558, -3384, 7616, 89, 387, -1516, 936, 1151, 508, 63, 889, 4060, 1002, 4262, 2716, 4096, 1703, 9027, 707, 1513, 3645, 1175, 3747, 1845950], \"x0\": 1500000, \"y\": [\"Prior Year\", \"Agriculture, forestry and fishing\", \"Mining\", \"Manufacturing\", \"Electricity, gas, water & waste services\", \"Construction\", \"Wholesale trade\", \"Retail trade\", \"Accommodation & food services\", \"Transport, postal & warehousing\", \"Information media & telecommunications\", \"Financial & insurance services\", \"Rental, hiring & real estate services\", \"Professional, scientific & technical services\", \"Administrative & support services\", \"Public administration & safety\", \"Education and training\", \"Health care & social assistance\", \"Arts & recreation services\", \"Other services\", \"Ownership of dwellings\", \"Taxes less subsidies on products\", \"Statistical discrepancy\", \"Current Year\"]}],\n",
       "                        {\"height\": 900, \"template\": {\"data\": {\"bar\": [{\"error_x\": {\"color\": \"#2a3f5f\"}, \"error_y\": {\"color\": \"#2a3f5f\"}, \"marker\": {\"line\": {\"color\": \"#E5ECF6\", \"width\": 0.5}}, \"type\": \"bar\"}], \"barpolar\": [{\"marker\": {\"line\": {\"color\": \"#E5ECF6\", \"width\": 0.5}}, \"type\": \"barpolar\"}], \"carpet\": [{\"aaxis\": {\"endlinecolor\": \"#2a3f5f\", \"gridcolor\": \"white\", \"linecolor\": \"white\", \"minorgridcolor\": \"white\", \"startlinecolor\": \"#2a3f5f\"}, \"baxis\": {\"endlinecolor\": \"#2a3f5f\", \"gridcolor\": \"white\", \"linecolor\": \"white\", \"minorgridcolor\": \"white\", \"startlinecolor\": \"#2a3f5f\"}, \"type\": \"carpet\"}], \"choropleth\": [{\"colorbar\": {\"outlinewidth\": 0, \"ticks\": \"\"}, \"type\": \"choropleth\"}], \"contour\": [{\"colorbar\": {\"outlinewidth\": 0, \"ticks\": \"\"}, \"colorscale\": [[0.0, \"#0d0887\"], [0.1111111111111111, \"#46039f\"], [0.2222222222222222, \"#7201a8\"], [0.3333333333333333, \"#9c179e\"], [0.4444444444444444, \"#bd3786\"], [0.5555555555555556, \"#d8576b\"], [0.6666666666666666, \"#ed7953\"], [0.7777777777777778, \"#fb9f3a\"], [0.8888888888888888, \"#fdca26\"], [1.0, \"#f0f921\"]], \"type\": \"contour\"}], \"contourcarpet\": [{\"colorbar\": {\"outlinewidth\": 0, \"ticks\": \"\"}, \"type\": \"contourcarpet\"}], \"heatmap\": [{\"colorbar\": {\"outlinewidth\": 0, \"ticks\": \"\"}, \"colorscale\": [[0.0, \"#0d0887\"], [0.1111111111111111, \"#46039f\"], [0.2222222222222222, \"#7201a8\"], [0.3333333333333333, \"#9c179e\"], [0.4444444444444444, \"#bd3786\"], [0.5555555555555556, \"#d8576b\"], [0.6666666666666666, \"#ed7953\"], [0.7777777777777778, \"#fb9f3a\"], [0.8888888888888888, \"#fdca26\"], [1.0, \"#f0f921\"]], \"type\": \"heatmap\"}], \"heatmapgl\": [{\"colorbar\": {\"outlinewidth\": 0, \"ticks\": \"\"}, \"colorscale\": [[0.0, \"#0d0887\"], [0.1111111111111111, \"#46039f\"], [0.2222222222222222, \"#7201a8\"], [0.3333333333333333, \"#9c179e\"], [0.4444444444444444, \"#bd3786\"], [0.5555555555555556, \"#d8576b\"], [0.6666666666666666, \"#ed7953\"], [0.7777777777777778, \"#fb9f3a\"], [0.8888888888888888, \"#fdca26\"], [1.0, \"#f0f921\"]], \"type\": \"heatmapgl\"}], \"histogram\": [{\"marker\": {\"colorbar\": {\"outlinewidth\": 0, \"ticks\": \"\"}}, \"type\": \"histogram\"}], \"histogram2d\": [{\"colorbar\": {\"outlinewidth\": 0, \"ticks\": \"\"}, \"colorscale\": [[0.0, \"#0d0887\"], [0.1111111111111111, \"#46039f\"], [0.2222222222222222, \"#7201a8\"], [0.3333333333333333, \"#9c179e\"], [0.4444444444444444, \"#bd3786\"], [0.5555555555555556, \"#d8576b\"], [0.6666666666666666, \"#ed7953\"], [0.7777777777777778, \"#fb9f3a\"], [0.8888888888888888, \"#fdca26\"], [1.0, \"#f0f921\"]], \"type\": \"histogram2d\"}], \"histogram2dcontour\": [{\"colorbar\": {\"outlinewidth\": 0, \"ticks\": \"\"}, \"colorscale\": [[0.0, \"#0d0887\"], [0.1111111111111111, \"#46039f\"], [0.2222222222222222, \"#7201a8\"], [0.3333333333333333, \"#9c179e\"], [0.4444444444444444, \"#bd3786\"], [0.5555555555555556, \"#d8576b\"], [0.6666666666666666, \"#ed7953\"], [0.7777777777777778, \"#fb9f3a\"], [0.8888888888888888, \"#fdca26\"], [1.0, \"#f0f921\"]], \"type\": \"histogram2dcontour\"}], \"mesh3d\": [{\"colorbar\": {\"outlinewidth\": 0, \"ticks\": \"\"}, \"type\": \"mesh3d\"}], \"parcoords\": [{\"line\": {\"colorbar\": {\"outlinewidth\": 0, \"ticks\": \"\"}}, \"type\": \"parcoords\"}], \"scatter\": [{\"marker\": {\"colorbar\": {\"outlinewidth\": 0, \"ticks\": \"\"}}, \"type\": \"scatter\"}], \"scatter3d\": [{\"line\": {\"colorbar\": {\"outlinewidth\": 0, \"ticks\": \"\"}}, \"marker\": {\"colorbar\": {\"outlinewidth\": 0, \"ticks\": \"\"}}, \"type\": \"scatter3d\"}], \"scattercarpet\": [{\"marker\": {\"colorbar\": {\"outlinewidth\": 0, \"ticks\": \"\"}}, \"type\": \"scattercarpet\"}], \"scattergeo\": [{\"marker\": {\"colorbar\": {\"outlinewidth\": 0, \"ticks\": \"\"}}, \"type\": \"scattergeo\"}], \"scattergl\": [{\"marker\": {\"colorbar\": {\"outlinewidth\": 0, \"ticks\": \"\"}}, \"type\": \"scattergl\"}], \"scattermapbox\": [{\"marker\": {\"colorbar\": {\"outlinewidth\": 0, \"ticks\": \"\"}}, \"type\": \"scattermapbox\"}], \"scatterpolar\": [{\"marker\": {\"colorbar\": {\"outlinewidth\": 0, \"ticks\": \"\"}}, \"type\": \"scatterpolar\"}], \"scatterpolargl\": [{\"marker\": {\"colorbar\": {\"outlinewidth\": 0, \"ticks\": \"\"}}, \"type\": \"scatterpolargl\"}], \"scatterternary\": [{\"marker\": {\"colorbar\": {\"outlinewidth\": 0, \"ticks\": \"\"}}, \"type\": \"scatterternary\"}], \"surface\": [{\"colorbar\": {\"outlinewidth\": 0, \"ticks\": \"\"}, \"colorscale\": [[0.0, \"#0d0887\"], [0.1111111111111111, \"#46039f\"], [0.2222222222222222, \"#7201a8\"], [0.3333333333333333, \"#9c179e\"], [0.4444444444444444, \"#bd3786\"], [0.5555555555555556, \"#d8576b\"], [0.6666666666666666, \"#ed7953\"], [0.7777777777777778, \"#fb9f3a\"], [0.8888888888888888, \"#fdca26\"], [1.0, \"#f0f921\"]], \"type\": \"surface\"}], \"table\": [{\"cells\": {\"fill\": {\"color\": \"#EBF0F8\"}, \"line\": {\"color\": \"white\"}}, \"header\": {\"fill\": {\"color\": \"#C8D4E3\"}, \"line\": {\"color\": \"white\"}}, \"type\": \"table\"}]}, \"layout\": {\"annotationdefaults\": {\"arrowcolor\": \"#2a3f5f\", \"arrowhead\": 0, \"arrowwidth\": 1}, \"colorscale\": {\"diverging\": [[0, \"#8e0152\"], [0.1, \"#c51b7d\"], [0.2, \"#de77ae\"], [0.3, \"#f1b6da\"], [0.4, \"#fde0ef\"], [0.5, \"#f7f7f7\"], [0.6, \"#e6f5d0\"], [0.7, \"#b8e186\"], [0.8, \"#7fbc41\"], [0.9, \"#4d9221\"], [1, \"#276419\"]], \"sequential\": [[0.0, \"#0d0887\"], [0.1111111111111111, \"#46039f\"], [0.2222222222222222, \"#7201a8\"], [0.3333333333333333, \"#9c179e\"], [0.4444444444444444, \"#bd3786\"], [0.5555555555555556, \"#d8576b\"], [0.6666666666666666, \"#ed7953\"], [0.7777777777777778, \"#fb9f3a\"], [0.8888888888888888, \"#fdca26\"], [1.0, \"#f0f921\"]], \"sequentialminus\": [[0.0, \"#0d0887\"], [0.1111111111111111, \"#46039f\"], [0.2222222222222222, \"#7201a8\"], [0.3333333333333333, \"#9c179e\"], [0.4444444444444444, \"#bd3786\"], [0.5555555555555556, \"#d8576b\"], [0.6666666666666666, \"#ed7953\"], [0.7777777777777778, \"#fb9f3a\"], [0.8888888888888888, \"#fdca26\"], [1.0, \"#f0f921\"]]}, \"colorway\": [\"#636efa\", \"#EF553B\", \"#00cc96\", \"#ab63fa\", \"#FFA15A\", \"#19d3f3\", \"#FF6692\", \"#B6E880\", \"#FF97FF\", \"#FECB52\"], \"font\": {\"color\": \"#2a3f5f\"}, \"geo\": {\"bgcolor\": \"white\", \"lakecolor\": \"white\", \"landcolor\": \"#E5ECF6\", \"showlakes\": true, \"showland\": true, \"subunitcolor\": \"white\"}, \"hoverlabel\": {\"align\": \"left\"}, \"hovermode\": \"closest\", \"mapbox\": {\"style\": \"light\"}, \"paper_bgcolor\": \"white\", \"plot_bgcolor\": \"#E5ECF6\", \"polar\": {\"angularaxis\": {\"gridcolor\": \"white\", \"linecolor\": \"white\", \"ticks\": \"\"}, \"bgcolor\": \"#E5ECF6\", \"radialaxis\": {\"gridcolor\": \"white\", \"linecolor\": \"white\", \"ticks\": \"\"}}, \"scene\": {\"xaxis\": {\"backgroundcolor\": \"#E5ECF6\", \"gridcolor\": \"white\", \"gridwidth\": 2, \"linecolor\": \"white\", \"showbackground\": true, \"ticks\": \"\", \"zerolinecolor\": \"white\"}, \"yaxis\": {\"backgroundcolor\": \"#E5ECF6\", \"gridcolor\": \"white\", \"gridwidth\": 2, \"linecolor\": \"white\", \"showbackground\": true, \"ticks\": \"\", \"zerolinecolor\": \"white\"}, \"zaxis\": {\"backgroundcolor\": \"#E5ECF6\", \"gridcolor\": \"white\", \"gridwidth\": 2, \"linecolor\": \"white\", \"showbackground\": true, \"ticks\": \"\", \"zerolinecolor\": \"white\"}}, \"shapedefaults\": {\"line\": {\"color\": \"#2a3f5f\"}}, \"ternary\": {\"aaxis\": {\"gridcolor\": \"white\", \"linecolor\": \"white\", \"ticks\": \"\"}, \"baxis\": {\"gridcolor\": \"white\", \"linecolor\": \"white\", \"ticks\": \"\"}, \"bgcolor\": \"#E5ECF6\", \"caxis\": {\"gridcolor\": \"white\", \"linecolor\": \"white\", \"ticks\": \"\"}}, \"title\": {\"x\": 0.05}, \"xaxis\": {\"automargin\": true, \"gridcolor\": \"white\", \"linecolor\": \"white\", \"ticks\": \"\", \"zerolinecolor\": \"white\", \"zerolinewidth\": 2}, \"yaxis\": {\"automargin\": true, \"gridcolor\": \"white\", \"linecolor\": \"white\", \"ticks\": \"\", \"zerolinecolor\": \"white\", \"zerolinewidth\": 2}}}, \"title\": {\"text\": \"Break-Down of GDP Movements by ABS Category\"}, \"xaxis\": {\"autorange\": false, \"range\": [1780000, 1860000]}},\n",
       "                        {\"responsive\": true}\n",
       "                    ).then(function(){\n",
       "                            \n",
       "var gd = document.getElementById('0135d51f-3b62-4361-903e-c949b383dfb0');\n",
       "var x = new MutationObserver(function (mutations, observer) {{\n",
       "        var display = window.getComputedStyle(gd).display;\n",
       "        if (!display || display === 'none') {{\n",
       "            console.log([gd, 'removed!']);\n",
       "            Plotly.purge(gd);\n",
       "            observer.disconnect();\n",
       "        }}\n",
       "}});\n",
       "\n",
       "// Listen for the removal of the full notebook cells\n",
       "var notebookContainer = gd.closest('#notebook-container');\n",
       "if (notebookContainer) {{\n",
       "    x.observe(notebookContainer, {childList: true});\n",
       "}}\n",
       "\n",
       "// Listen for the clearing of the current output cell\n",
       "var outputEl = gd.closest('.output');\n",
       "if (outputEl) {{\n",
       "    x.observe(outputEl, {childList: true});\n",
       "}}\n",
       "\n",
       "                        })\n",
       "                };\n",
       "                });\n",
       "            </script>\n",
       "        </div>"
      ]
     },
     "metadata": {},
     "output_type": "display_data"
    }
   ],
   "source": [
    "layout=go.Layout(xaxis=go.layout.XAxis(autorange=False, range=[1780000, 1860000]))\n",
    "\n",
    "\n",
    "fig = go.Figure(go.Waterfall(\n",
    "    name = \"2018\", x0= 1500000, orientation = \"h\", measure = [\"absolute\", \"relative\", \"relative\", \"relative\", \"relative\", \"relative\",\n",
    "                                              \"relative\", \"relative\", \"relative\", \"relative\", \"relative\", \"relative\",\n",
    "                                                 \"relative\", \"relative\", \"relative\",\"relative\",\"relative\",\"relative\",\n",
    "                                                 \"relative\",\"relative\",\"relative\", \"relative\", \"relative\", \"absolute\"],\n",
    "    \n",
    "    y = [\"Prior Year\", \"Agriculture, forestry and fishing\", \"Mining\", \"Manufacturing\",\n",
    "         \"Electricity, gas, water & waste services\", \"Construction\", \"Wholesale trade\", \"Retail trade\",\n",
    "         \"Accommodation & food services\", \"Transport, postal & warehousing\", \"Information media & telecommunications\",\n",
    "         \"Financial & insurance services\", \"Rental, hiring & real estate services\",\n",
    "         \"Professional, scientific & technical services\", \"Administrative & support services\",\n",
    "         \"Public administration & safety\", \"Education and training\", \"Health care & social assistance\",\n",
    "         \"Arts & recreation services\", \"Other services\", \"Ownership of dwellings\",\n",
    "         \"Taxes less subsidies on products\", \"Statistical discrepancy\", \"Current Year\"],\n",
    "    \n",
    "    x = [Prior_Year_Sum, Agr, Mining, Manufact, Elect, Construct, WholeTrade, RetailTrade, AccomFS, Transport, Info, Financial,\n",
    "         Rental, Professional, Admin, Public, Educate, Health, Arts, Other, Owner, Taxes, Stats, Current_Year_Sum],\n",
    "    \n",
    "    connector = {\"mode\":\"between\", \"line\":{\"width\":4, \"color\":\"rgb(0, 0, 0)\", \"dash\":\"solid\"}}),layout = layout)\n",
    "\n",
    "fig.update_layout(title = \"Break-Down of GDP Movements by ABS Category\", height=900)\n",
    "\n",
    "\n",
    "\n",
    "fig.show()"
   ]
  }
 ],
 "metadata": {
  "kernelspec": {
   "display_name": "Python 3",
   "language": "python",
   "name": "python3"
  },
  "language_info": {
   "codemirror_mode": {
    "name": "ipython",
    "version": 3
   },
   "file_extension": ".py",
   "mimetype": "text/x-python",
   "name": "python",
   "nbconvert_exporter": "python",
   "pygments_lexer": "ipython3",
   "version": "3.7.3"
  }
 },
 "nbformat": 4,
 "nbformat_minor": 2
}
